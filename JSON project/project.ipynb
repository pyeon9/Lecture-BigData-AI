{
 "cells": [
  {
   "cell_type": "code",
   "execution_count": 211,
   "metadata": {},
   "outputs": [],
   "source": [
    "import os\n",
    "import json\n",
    "import shutil"
   ]
  },
  {
   "cell_type": "markdown",
   "metadata": {},
   "source": [
    "### 디렉토리 설정 및 파일 할당"
   ]
  },
  {
   "cell_type": "code",
   "execution_count": 212,
   "metadata": {},
   "outputs": [],
   "source": [
    "root = '실습'"
   ]
  },
  {
   "cell_type": "code",
   "execution_count": 213,
   "metadata": {},
   "outputs": [],
   "source": [
    "annot_path = f'{root}/Annotations'\n",
    "image_path = f'{root}/Images'"
   ]
  },
  {
   "cell_type": "code",
   "execution_count": 214,
   "metadata": {},
   "outputs": [
    {
     "name": "stdout",
     "output_type": "stream",
     "text": [
      "5975 5975\n"
     ]
    }
   ],
   "source": [
    "annots = os.listdir(annot_path)\n",
    "images = os.listdir(image_path)\n",
    "print(len(annots), len(images))"
   ]
  },
  {
   "cell_type": "markdown",
   "metadata": {},
   "source": [
    "### Annotation 파일(JSON) 읽어보기"
   ]
  },
  {
   "cell_type": "code",
   "execution_count": 215,
   "metadata": {},
   "outputs": [],
   "source": [
    "with open(f'{annot_path}/{annots[0]}') as f:\n",
    "    file = json.load(f)"
   ]
  },
  {
   "cell_type": "code",
   "execution_count": null,
   "metadata": {},
   "outputs": [],
   "source": [
    "# file\n",
    "# file.keys()"
   ]
  },
  {
   "cell_type": "code",
   "execution_count": 12,
   "metadata": {},
   "outputs": [
    {
     "data": {
      "text/plain": [
       "[{'id': 1, 'name': 'Animals(Dolls)'},\n",
       " {'id': 2, 'name': 'Person'},\n",
       " {'id': 3, 'name': 'Garbage bag & sacks'},\n",
       " {'id': 4, 'name': 'Construction signs & Parking prohibited board'},\n",
       " {'id': 5, 'name': 'Traffic cone'},\n",
       " {'id': 6, 'name': 'Box'},\n",
       " {'id': 7, 'name': 'Stones on road'},\n",
       " {'id': 8, 'name': 'Pothole on road'},\n",
       " {'id': 9, 'name': 'Filled pothole'},\n",
       " {'id': 10, 'name': 'Manhole'}]"
      ]
     },
     "execution_count": 12,
     "metadata": {},
     "output_type": "execute_result"
    }
   ],
   "source": [
    "file['categories']"
   ]
  },
  {
   "cell_type": "code",
   "execution_count": 17,
   "metadata": {
    "collapsed": true
   },
   "outputs": [
    {
     "data": {
      "text/plain": [
       "[{'segmentation': [],\n",
       "  'polyline': [],\n",
       "  'image_id': 1,\n",
       "  'bbox': [864.6860136485835, 0, 32.64630867856897, 93.08609636727098],\n",
       "  'category_id': 2,\n",
       "  'area': 3038.917435688946,\n",
       "  'is_crowd': 0,\n",
       "  'id': 1},\n",
       " {'segmentation': [],\n",
       "  'polyline': [],\n",
       "  'image_id': 1,\n",
       "  'bbox': [679.0911488752403,\n",
       "   56.67131391536984,\n",
       "   31.350088548927943,\n",
       "   50.16014167828479],\n",
       "  'category_id': 5,\n",
       "  'area': 1572.524883240999,\n",
       "  'is_crowd': 0,\n",
       "  'id': 2},\n",
       " {'segmentation': [],\n",
       "  'polyline': [],\n",
       "  'image_id': 1,\n",
       "  'bbox': [672.5799766381552,\n",
       "   57.877086551867066,\n",
       "   12.781189946870654,\n",
       "   44.613587550397526],\n",
       "  'category_id': 5,\n",
       "  'area': 570.2147366929746,\n",
       "  'is_crowd': 0,\n",
       "  'id': 3}]"
      ]
     },
     "execution_count": 17,
     "metadata": {},
     "output_type": "execute_result"
    }
   ],
   "source": [
    "file['annotations']"
   ]
  },
  {
   "cell_type": "markdown",
   "metadata": {},
   "source": [
    "### 카테고리 분류\n",
    "#### \n",
    "#### 7 : Stones on road\n",
    "#### 8 : Pothole on road\n",
    "#### 9 : Filled pothole\n",
    "#### 중복은 제외"
   ]
  },
  {
   "cell_type": "code",
   "execution_count": 216,
   "metadata": {},
   "outputs": [],
   "source": [
    "stone = []\n",
    "pothole = []\n",
    "filled = []\n",
    "for a in annots:\n",
    "    counts = [0, 0, 0]\n",
    "    with open(f'{annot_path}/{a}') as f:\n",
    "        instance = json.load(f)\n",
    "    annotations = instance['annotations']\n",
    "    for annot in annotations:\n",
    "        category_id = annot['category_id']\n",
    "        if category_id == 7:\n",
    "            counts[0] += 1\n",
    "        elif category_id == 8:\n",
    "            counts[1] += 1\n",
    "        elif category_id == 9:\n",
    "            counts[2] += 1\n",
    "    u = counts or [1, 1, 1]\n",
    "    is_unique = True if sum(u) == 1 else False\n",
    "    if is_unique:\n",
    "        idx = u.index(1)\n",
    "        if idx == 0:\n",
    "            stone.append(a)\n",
    "        elif idx == 1:\n",
    "            pothole.append(a)\n",
    "        else:\n",
    "            filled.append(a)"
   ]
  },
  {
   "cell_type": "code",
   "execution_count": 217,
   "metadata": {},
   "outputs": [
    {
     "name": "stdout",
     "output_type": "stream",
     "text": [
      "82 231 433\n"
     ]
    }
   ],
   "source": [
    "print(len(stone), len(pothole), len(filled))"
   ]
  },
  {
   "cell_type": "code",
   "execution_count": 186,
   "metadata": {
    "collapsed": true
   },
   "outputs": [
    {
     "name": "stdout",
     "output_type": "stream",
     "text": [
      "1 429\n",
      "2 2523\n",
      "3 176\n",
      "4 192\n",
      "5 2031\n",
      "6 1127\n",
      "7 104\n",
      "8 435\n",
      "9 759\n",
      "10 2332\n"
     ]
    }
   ],
   "source": [
    "# for ID in range(1, 11):\n",
    "#     stone = []\n",
    "#     for a in annots:\n",
    "#         counts = [0]\n",
    "#         with open(f'{annot_path}/{a}') as f:\n",
    "#             instance = json.load(f)\n",
    "#         annotations = instance['annotations']\n",
    "#         for annot in annotations:\n",
    "#             category_id = annot['category_id']\n",
    "#             if category_id == ID:\n",
    "#                 stone.append(a)\n",
    "#                 break\n",
    "#     print(ID, len(stone))"
   ]
  },
  {
   "cell_type": "code",
   "execution_count": 222,
   "metadata": {},
   "outputs": [],
   "source": [
    "def make_output_dir(category):\n",
    "    os.makedirs(f'{root}/{category}/Annotations')\n",
    "    os.makedirs(f'{root}/{category}/Images')"
   ]
  },
  {
   "cell_type": "code",
   "execution_count": null,
   "metadata": {},
   "outputs": [],
   "source": [
    "make_output_dir('0. stone')\n",
    "make_output_dir('1. pothole')\n",
    "make_output_dir('2. filled')"
   ]
  },
  {
   "cell_type": "code",
   "execution_count": 226,
   "metadata": {},
   "outputs": [],
   "source": [
    "def copy_files(json_lst, category):\n",
    "    for j in json_lst:\n",
    "        image = j[:-10] + '.png'\n",
    "        annot_src = f'{annot_path}/{j}'\n",
    "        annot_dst = f'{root}/{category}/Annotations/'\n",
    "        shutil.copy(annot_src, annot_dst)\n",
    "\n",
    "        image_src = f'{image_path}/{image}'\n",
    "        image_dst = f'{root}/{category}/Images/'\n",
    "        shutil.copy(image_src, image_dst)"
   ]
  },
  {
   "cell_type": "code",
   "execution_count": 228,
   "metadata": {},
   "outputs": [],
   "source": [
    "copy_files(stone, '0. stone')\n",
    "copy_files(pothole, '1. pothole')\n",
    "copy_files(filled, '2. filled')"
   ]
  }
 ],
 "metadata": {
  "kernelspec": {
   "display_name": "ex:tf_2.3.0",
   "language": "python",
   "name": "ex"
  },
  "language_info": {
   "codemirror_mode": {
    "name": "ipython",
    "version": 3
   },
   "file_extension": ".py",
   "mimetype": "text/x-python",
   "name": "python",
   "nbconvert_exporter": "python",
   "pygments_lexer": "ipython3",
   "version": "3.7.9"
  }
 },
 "nbformat": 4,
 "nbformat_minor": 4
}
