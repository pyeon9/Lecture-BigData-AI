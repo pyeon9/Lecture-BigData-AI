{
 "cells": [
  {
   "cell_type": "code",
   "execution_count": 16,
   "id": "5d111c2b",
   "metadata": {},
   "outputs": [],
   "source": [
    "import os\n",
    "import glob\n",
    "import pickle\n",
    "import shutil\n",
    "import numpy as np"
   ]
  },
  {
   "cell_type": "code",
   "execution_count": 2,
   "id": "a9ce1d2b",
   "metadata": {},
   "outputs": [
    {
     "name": "stdout",
     "output_type": "stream",
     "text": [
      "['video/label\\\\IMG_0030.pkl', 'video/label\\\\IMG_0031.pkl', 'video/label\\\\IMG_0032.pkl', 'video/label\\\\IMG_0033.pkl']\n"
     ]
    }
   ],
   "source": [
    "labels = glob.glob('video/label/*.pkl')\n",
    "print(labels)"
   ]
  },
  {
   "cell_type": "code",
   "execution_count": 12,
   "id": "9860607d",
   "metadata": {},
   "outputs": [
    {
     "name": "stdout",
     "output_type": "stream",
     "text": [
      "['IMG_0030', 'IMG_0031', 'IMG_0032', 'IMG_0033']\n"
     ]
    }
   ],
   "source": [
    "names = os.listdir('video/label/')\n",
    "names = [os.path.splitext(name)[0] for name in names]\n",
    "print(names)"
   ]
  },
  {
   "cell_type": "code",
   "execution_count": 30,
   "id": "f19779d7",
   "metadata": {},
   "outputs": [
    {
     "name": "stdout",
     "output_type": "stream",
     "text": [
      "15 5 35\n",
      "0 0 15\n",
      "23 21 28\n",
      "13 11 25\n"
     ]
    }
   ],
   "source": [
    "for i in range(len(labels)):\n",
    "    with open(labels[i], 'rb') as f:\n",
    "        label = pickle.load(f)\n",
    "\n",
    "    keys = list(label.keys())\n",
    "    values = list(label.values())\n",
    "\n",
    "    np.unique(values, return_counts=True)\n",
    "\n",
    "    index7 = np.where(np.array(values)==7)[0]\n",
    "    index8 = np.where(np.array(values)==8)[0]\n",
    "    index9 = np.where(np.array(values)==9)[0]\n",
    "    print(len(index7), len(index8), len(index9))"
   ]
  },
  {
   "cell_type": "code",
   "execution_count": 32,
   "id": "25950d4c",
   "metadata": {},
   "outputs": [
    {
     "data": {
      "text/plain": [
       "['13235',\n",
       " '13510',\n",
       " '18555',\n",
       " '19510',\n",
       " '29775',\n",
       " '33505',\n",
       " '54905',\n",
       " '64785',\n",
       " '74525',\n",
       " '78355',\n",
       " '83475',\n",
       " '83610',\n",
       " '86490']"
      ]
     },
     "execution_count": 32,
     "metadata": {},
     "output_type": "execute_result"
    }
   ],
   "source": [
    "ks = []\n",
    "for k, v in label.items():\n",
    "    if v == 7:\n",
    "        ks.append(k)\n",
    "ks"
   ]
  },
  {
   "cell_type": "code",
   "execution_count": 37,
   "id": "c77c5587",
   "metadata": {},
   "outputs": [],
   "source": [
    "def makedirs(path):\n",
    "    try:\n",
    "        os.makedirs(f'{path}')\n",
    "    except:\n",
    "        pass"
   ]
  },
  {
   "cell_type": "code",
   "execution_count": 38,
   "id": "23fc4203",
   "metadata": {},
   "outputs": [],
   "source": [
    "for i, name in enumerate(names):\n",
    "    with open(labels[i], 'rb') as f:\n",
    "        label = pickle.load(f)\n",
    "\n",
    "#     keys = list(label.keys())\n",
    "#     values = list(label.values())\n",
    "\n",
    "    makedirs('video/test/other')\n",
    "    makedirs('video/test/pothole')\n",
    "    makedirs('video/test/filled')\n",
    "    \n",
    "    index7, index8, index9 = [], [], [] \n",
    "    for k, v in label.items():\n",
    "        if v == 7:\n",
    "            index7.append(k)\n",
    "        elif v == 8:\n",
    "            index8.append(k)\n",
    "        elif v == 9:\n",
    "            index9.append(k)\n",
    "    \n",
    "    for idx in index7:\n",
    "        shutil.copy(f'video/{name}/{name}_{idx}.png', f'video/test/other/{name}_{idx}.png')\n",
    "    for idx in index8:\n",
    "        shutil.copy(f'video/{name}/{name}_{idx}.png', f'video/test/pothole/{name}_{idx}.png')\n",
    "    for idx in index9:\n",
    "        shutil.copy(f'video/{name}/{name}_{idx}.png', f'video/test/filled/{name}_{idx}.png')"
   ]
  },
  {
   "cell_type": "code",
   "execution_count": null,
   "id": "fc38f167",
   "metadata": {},
   "outputs": [],
   "source": []
  }
 ],
 "metadata": {
  "kernelspec": {
   "display_name": "Python 3 (ipykernel)",
   "language": "python",
   "name": "python3"
  },
  "language_info": {
   "codemirror_mode": {
    "name": "ipython",
    "version": 3
   },
   "file_extension": ".py",
   "mimetype": "text/x-python",
   "name": "python",
   "nbconvert_exporter": "python",
   "pygments_lexer": "ipython3",
   "version": "3.8.12"
  }
 },
 "nbformat": 4,
 "nbformat_minor": 5
}
